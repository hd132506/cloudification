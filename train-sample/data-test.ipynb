{
 "cells": [
  {
   "cell_type": "code",
   "execution_count": 11,
   "metadata": {},
   "outputs": [],
   "source": [
    "import torch\n",
    "import torch.nn as nn\n",
    "import torch.optim as optim\n",
    "from torch.utils.data import DataLoader, TensorDataset\n",
    "\n",
    "# Check if GPU is available\n",
    "device = torch.device('cuda' if torch.cuda.is_available() else 'cpu')\n",
    "\n",
    "# ResNet Block\n",
    "class ResidualBlock(nn.Module):\n",
    "    def __init__(self, in_channels, out_channels, stride=1):\n",
    "        super(ResidualBlock, self).__init__()\n",
    "        self.conv1 = nn.Conv2d(in_channels, out_channels, kernel_size=3, stride=stride, padding=1)\n",
    "        self.bn1 = nn.BatchNorm2d(out_channels)\n",
    "        self.relu = nn.ReLU(inplace=True)\n",
    "        self.conv2 = nn.Conv2d(out_channels, out_channels, kernel_size=3, stride=1, padding=1)\n",
    "        self.bn2 = nn.BatchNorm2d(out_channels)\n",
    "        self.shortcut = nn.Sequential()\n",
    "        if stride != 1 or in_channels != out_channels:\n",
    "            self.shortcut = nn.Sequential(\n",
    "                nn.Conv2d(in_channels, out_channels, kernel_size=1, stride=stride),\n",
    "                nn.BatchNorm2d(out_channels)\n",
    "            )\n",
    "\n",
    "    def forward(self, x):\n",
    "        out = self.relu(self.bn1(self.conv1(x)))\n",
    "        out = self.bn2(self.conv2(out))\n",
    "        out += self.shortcut(x)\n",
    "        out = self.relu(out)\n",
    "        return out\n",
    "\n",
    "# ResNet\n",
    "class ResNet(nn.Module):\n",
    "    def __init__(self):\n",
    "        super(ResNet, self).__init__()\n",
    "        self.conv1 = nn.Conv2d(1, 64, kernel_size=3, stride=1, padding=1)\n",
    "        self.bn1 = nn.BatchNorm2d(64)\n",
    "        self.relu = nn.ReLU(inplace=True)\n",
    "        self.layer1 = self._make_layer(64, 64, 2, stride=1)\n",
    "        self.layer2 = self._make_layer(64, 128, 2, stride=2)\n",
    "        self.fc = nn.Linear(1152, 10)\n",
    "\n",
    "    def _make_layer(self, in_channels, out_channels, num_blocks, stride):\n",
    "        layers = []\n",
    "        layers.append(ResidualBlock(in_channels, out_channels, stride))\n",
    "        for _ in range(num_blocks - 1):\n",
    "            layers.append(ResidualBlock(out_channels, out_channels))\n",
    "        return nn.Sequential(*layers)\n",
    "\n",
    "    def forward(self, x):\n",
    "        out = self.relu(self.bn1(self.conv1(x)))\n",
    "        out = self.layer1(out)\n",
    "        out = self.layer2(out)\n",
    "        out = nn.functional.avg_pool2d(out, 4)\n",
    "        out = out.view(out.size(0), -1)\n",
    "        out = self.fc(out)\n",
    "        return out\n",
    "    \n",
    "\n",
    "class ResNetClient(nn.Module):\n",
    "    def __init__(self):\n",
    "        super(ResNetClient, self).__init__()\n",
    "        self.conv1 = nn.Conv2d(1, 64, kernel_size=3, stride=1, padding=1)\n",
    "        self.bn1 = nn.BatchNorm2d(64)\n",
    "        self.relu = nn.ReLU(inplace=True)\n",
    "\n",
    "    def forward(self, x):\n",
    "        out = self.relu(self.bn1(self.conv1(x)))\n",
    "        return out\n",
    "    \n",
    "\n",
    "class ResNetServer(nn.Module):\n",
    "    def __init__(self):\n",
    "        super(ResNetServer, self).__init__()\n",
    "        self.layer1 = self._make_layer(64, 64, 2, stride=1)\n",
    "        self.layer2 = self._make_layer(64, 128, 2, stride=2)\n",
    "        self.fc = nn.Linear(1152, 10)\n",
    "\n",
    "    def _make_layer(self, in_channels, out_channels, num_blocks, stride):\n",
    "        layers = []\n",
    "        layers.append(ResidualBlock(in_channels, out_channels, stride))\n",
    "        for _ in range(num_blocks - 1):\n",
    "            layers.append(ResidualBlock(out_channels, out_channels))\n",
    "        return nn.Sequential(*layers)\n",
    "\n",
    "    def forward(self, smashed_x):\n",
    "        out = self.layer1(smashed_x)\n",
    "        out = self.layer2(out)\n",
    "        out = nn.functional.avg_pool2d(out, 4)\n",
    "        out = out.view(out.size(0), -1)\n",
    "        out = self.fc(out)\n",
    "        return out"
   ]
  },
  {
   "cell_type": "code",
   "execution_count": 3,
   "metadata": {},
   "outputs": [],
   "source": [
    "train_data, train_labels = torch.load('dataset/mnist/training.pt')\n",
    "test_data, test_labels = torch.load('dataset/mnist/test.pt')\n",
    "\n",
    "train_dataset = TensorDataset(train_data.unsqueeze(1).float(), train_labels)\n",
    "test_dataset = TensorDataset(test_data.unsqueeze(1).float(), test_labels)\n",
    "\n",
    "train_loader = DataLoader(train_dataset, batch_size=128, shuffle=True)\n",
    "test_loader = DataLoader(test_dataset, batch_size=128, shuffle=False)\n"
   ]
  },
  {
   "cell_type": "code",
   "execution_count": 4,
   "metadata": {},
   "outputs": [],
   "source": [
    "# Initialize model, loss, and optimizer\n",
    "model = ResNet().to(device)  # Move model to GPU\n",
    "criterion = nn.CrossEntropyLoss()\n",
    "optimizer = optim.Adam(model.parameters(), lr=0.001)\n"
   ]
  },
  {
   "cell_type": "code",
   "execution_count": 5,
   "metadata": {},
   "outputs": [
    {
     "name": "stdout",
     "output_type": "stream",
     "text": [
      "Epoch [1/10], Step [100/469], Loss: 0.0511\n",
      "Epoch [1/10], Step [200/469], Loss: 0.0270\n",
      "Epoch [1/10], Step [300/469], Loss: 0.0347\n",
      "Epoch [1/10], Step [400/469], Loss: 0.1204\n",
      "Epoch [2/10], Step [100/469], Loss: 0.0560\n",
      "Epoch [2/10], Step [200/469], Loss: 0.0219\n",
      "Epoch [2/10], Step [300/469], Loss: 0.0513\n",
      "Epoch [2/10], Step [400/469], Loss: 0.0407\n",
      "Epoch [3/10], Step [100/469], Loss: 0.0105\n",
      "Epoch [3/10], Step [200/469], Loss: 0.0160\n",
      "Epoch [3/10], Step [300/469], Loss: 0.0164\n",
      "Epoch [3/10], Step [400/469], Loss: 0.0057\n",
      "Epoch [4/10], Step [100/469], Loss: 0.0157\n",
      "Epoch [4/10], Step [200/469], Loss: 0.0541\n",
      "Epoch [4/10], Step [300/469], Loss: 0.0074\n",
      "Epoch [4/10], Step [400/469], Loss: 0.0262\n",
      "Epoch [5/10], Step [100/469], Loss: 0.0170\n",
      "Epoch [5/10], Step [200/469], Loss: 0.0303\n",
      "Epoch [5/10], Step [300/469], Loss: 0.0077\n",
      "Epoch [5/10], Step [400/469], Loss: 0.0018\n",
      "Epoch [6/10], Step [100/469], Loss: 0.0246\n",
      "Epoch [6/10], Step [200/469], Loss: 0.0097\n",
      "Epoch [6/10], Step [300/469], Loss: 0.0008\n",
      "Epoch [6/10], Step [400/469], Loss: 0.0047\n",
      "Epoch [7/10], Step [100/469], Loss: 0.0030\n",
      "Epoch [7/10], Step [200/469], Loss: 0.0050\n",
      "Epoch [7/10], Step [300/469], Loss: 0.0089\n",
      "Epoch [7/10], Step [400/469], Loss: 0.0209\n",
      "Epoch [8/10], Step [100/469], Loss: 0.0928\n",
      "Epoch [8/10], Step [200/469], Loss: 0.0060\n",
      "Epoch [8/10], Step [300/469], Loss: 0.0169\n",
      "Epoch [8/10], Step [400/469], Loss: 0.0007\n",
      "Epoch [9/10], Step [100/469], Loss: 0.0111\n",
      "Epoch [9/10], Step [200/469], Loss: 0.0499\n",
      "Epoch [9/10], Step [300/469], Loss: 0.0028\n",
      "Epoch [9/10], Step [400/469], Loss: 0.0059\n",
      "Epoch [10/10], Step [100/469], Loss: 0.0245\n",
      "Epoch [10/10], Step [200/469], Loss: 0.0012\n",
      "Epoch [10/10], Step [300/469], Loss: 0.0019\n",
      "Epoch [10/10], Step [400/469], Loss: 0.0174\n",
      "Test Accuracy: 99.36%\n"
     ]
    }
   ],
   "source": [
    "# Training\n",
    "for epoch in range(10):\n",
    "    model.train()\n",
    "    for i, (data, labels) in enumerate(train_loader):\n",
    "        data, labels = data.to(device), labels.to(device)  # Move data and labels to GPU\n",
    "        optimizer.zero_grad()\n",
    "        outputs = model(data)\n",
    "        loss = criterion(outputs, labels)\n",
    "        loss.backward()\n",
    "        optimizer.step()\n",
    "        if (i + 1) % 100 == 0:\n",
    "            print(f\"Epoch [{epoch + 1}/10], Step [{i + 1}/{len(train_loader)}], Loss: {loss.item():.4f}\")\n",
    "\n",
    "# Testing\n",
    "model.eval()\n",
    "correct = 0\n",
    "total = 0\n",
    "with torch.no_grad():\n",
    "    for data, labels in test_loader:\n",
    "        data, labels = data.to(device), labels.to(device)  # Move data and labels to GPU\n",
    "        outputs = model(data)\n",
    "        _, predicted = torch.max(outputs.data, 1)\n",
    "        total += labels.size(0)\n",
    "        correct += (predicted == labels).sum().item()\n",
    "\n",
    "print(f\"Test Accuracy: {100 * correct / total}%\")\n",
    "\n"
   ]
  },
  {
   "cell_type": "code",
   "execution_count": 12,
   "metadata": {},
   "outputs": [],
   "source": [
    "server_model = ResNetServer().to(device)\n",
    "client_model = ResNetClient().to(device)"
   ]
  },
  {
   "cell_type": "code",
   "execution_count": 18,
   "metadata": {},
   "outputs": [
    {
     "data": {
      "text/plain": [
       "<All keys matched successfully>"
      ]
     },
     "execution_count": 18,
     "metadata": {},
     "output_type": "execute_result"
    }
   ],
   "source": [
    "# Split\n",
    "\n",
    "server_model_state_dict = {}\n",
    "for k in server_model.state_dict().keys():\n",
    "    server_model_state_dict[k] = model.state_dict()[k]\n",
    "\n",
    "server_model.load_state_dict(server_model_state_dict)\n",
    "\n",
    "client_model_state_dict = {}\n",
    "for k in client_model.state_dict().keys():\n",
    "    client_model_state_dict[k] = model.state_dict()[k]\n",
    "\n",
    "client_model.load_state_dict(client_model_state_dict)"
   ]
  },
  {
   "cell_type": "code",
   "execution_count": 19,
   "metadata": {},
   "outputs": [
    {
     "name": "stdout",
     "output_type": "stream",
     "text": [
      "Test Accuracy: 99.36%\n"
     ]
    }
   ],
   "source": [
    "server_model.eval()\n",
    "client_model.eval()\n",
    "\n",
    "correct = 0\n",
    "total = 0\n",
    "with torch.no_grad():\n",
    "    for data, labels in test_loader:\n",
    "        data, labels = data.to(device), labels.to(device)  # Move data and labels to GPU\n",
    "        \n",
    "        smashed_data = client_model(data)\n",
    "\n",
    "        outputs = server_model(smashed_data)\n",
    "        _, predicted = torch.max(outputs.data, 1)\n",
    "        total += labels.size(0)\n",
    "        correct += (predicted == labels).sum().item()\n",
    "\n",
    "print(f\"Test Accuracy: {100 * correct / total}%\")\n"
   ]
  },
  {
   "cell_type": "code",
   "execution_count": null,
   "metadata": {},
   "outputs": [],
   "source": []
  }
 ],
 "metadata": {
  "kernelspec": {
   "display_name": "cloudification",
   "language": "python",
   "name": "cloudification"
  },
  "language_info": {
   "codemirror_mode": {
    "name": "ipython",
    "version": 3
   },
   "file_extension": ".py",
   "mimetype": "text/x-python",
   "name": "python",
   "nbconvert_exporter": "python",
   "pygments_lexer": "ipython3",
   "version": "3.11.4"
  },
  "orig_nbformat": 4
 },
 "nbformat": 4,
 "nbformat_minor": 2
}
